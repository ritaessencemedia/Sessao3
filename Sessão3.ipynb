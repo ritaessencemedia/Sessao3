{
  "nbformat": 4,
  "nbformat_minor": 0,
  "metadata": {
    "colab": {
      "provenance": [],
      "authorship_tag": "ABX9TyOuJYZnBOfx6c1UlFULQSfT",
      "include_colab_link": true
    },
    "kernelspec": {
      "name": "python3",
      "display_name": "Python 3"
    },
    "language_info": {
      "name": "python"
    }
  },
  "cells": [
    {
      "cell_type": "markdown",
      "metadata": {
        "id": "view-in-github",
        "colab_type": "text"
      },
      "source": [
        "<a href=\"https://colab.research.google.com/github/ritaessencemedia/Sessao3/blob/main/Sess%C3%A3o3.ipynb\" target=\"_parent\"><img src=\"https://colab.research.google.com/assets/colab-badge.svg\" alt=\"Open In Colab\"/></a>"
      ]
    },
    {
      "cell_type": "markdown",
      "source": [
        "Como sabemos, utilizar uma API para consumir dados é uma das formas mais utilizadas no dia-a-dia. Portanto, o desafio será construir uma API em python onde o usuário digitará o CEP e o script trará os dados da localidade daquele CEP específico, observações:\n",
        "\n",
        "Use a biblioteca request para efetuar a requisição.\n",
        "Existe um endpoint chamado https://viacep.com.br/, nele você consegue obter informações passando o cep.\n",
        "\n",
        "Boa sorte.\n",
        "\n",
        "\n"
      ],
      "metadata": {
        "id": "CvioBLM2YG7G"
      }
    },
    {
      "cell_type": "code",
      "source": [
        "import requests\n",
        "\n",
        "def consultar_cep(cep):\n",
        "    # URL da API ViaCEP com o CEP fornecido\n",
        "    url = f\"https://viacep.com.br/ws/{cep}/json/\"\n",
        "\n",
        "    # Efetua a requisição para a API\n",
        "    response = requests.get(url)\n",
        "\n",
        "    # Verifica se a requisição foi bem-sucedida\n",
        "    if response.status_code == 200:\n",
        "        dados = response.json()\n",
        "\n",
        "        # Verifica se o CEP é válido\n",
        "        if \"erro\" not in dados:\n",
        "            # Retorna os dados da localidade\n",
        "            return dados\n",
        "        else:\n",
        "            return {\"erro\": \"CEP não encontrado.\"}\n",
        "    else:\n",
        "        return {\"erro\": \"Erro na requisição à API ViaCEP.\"}\n",
        "\n",
        "def main():\n",
        "    # Solicita o CEP ao usuário\n",
        "    cep = input(\"Digite o CEP (somente números): \")\n",
        "\n",
        "    # Valida o CEP (deve ter 8 dígitos)\n",
        "    if len(cep) == 8 and cep.isdigit():\n",
        "        dados_cep = consultar_cep(cep)\n",
        "\n",
        "        # Verifica se houve erro\n",
        "        if \"erro\" not in dados_cep:\n",
        "            print(\"\\nInformações da localidade:\")\n",
        "            print(f\"CEP: {dados_cep['cep']}\")\n",
        "            print(f\"Logradouro: {dados_cep['logradouro']}\")\n",
        "            print(f\"Complemento: {dados_cep['complemento']}\")\n",
        "            print(f\"Bairro: {dados_cep['bairro']}\")\n",
        "            print(f\"Cidade: {dados_cep['localidade']}\")\n",
        "            print(f\"Estado: {dados_cep['uf']}\")\n",
        "        else:\n",
        "            print(dados_cep[\"erro\"])\n",
        "    else:\n",
        "        print(\"CEP inválido! Por favor, insira um CEP com 8 dígitos numéricos.\")\n",
        "\n",
        "if __name__ == \"__main__\":\n",
        "    main()\n"
      ],
      "metadata": {
        "colab": {
          "base_uri": "https://localhost:8080/"
        },
        "id": "gyJ9q7jrYLTO",
        "outputId": "72277db6-8bd6-4c22-a913-7a64518adb94"
      },
      "execution_count": null,
      "outputs": [
        {
          "output_type": "stream",
          "name": "stdout",
          "text": [
            "Digite o CEP (somente números): 08310560\n",
            "\n",
            "Informações da localidade:\n",
            "CEP: 08310-560\n",
            "Logradouro: Rua Leonice Alves Rodrigues\n",
            "Complemento: \n",
            "Bairro: Parque São Rafael\n",
            "Cidade: São Paulo\n",
            "Estado: SP\n"
          ]
        }
      ]
    }
  ]
}